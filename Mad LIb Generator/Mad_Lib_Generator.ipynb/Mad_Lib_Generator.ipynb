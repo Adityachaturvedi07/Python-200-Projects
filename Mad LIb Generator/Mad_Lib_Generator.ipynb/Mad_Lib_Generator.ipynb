{
 "cells": [
  {
   "cell_type": "markdown",
   "id": "128926fa-d9fc-420c-97f6-0d08e37ed57e",
   "metadata": {},
   "source": [
    "## Mad Lib generator\n",
    "The Mad Libs Generator gathers and manipulates user input data as an adjective, a pronoun, and a verb. The program takes this data and arranges it to build a story."
   ]
  },
  {
   "cell_type": "raw",
   "id": "143565f2-38dc-4b66-85ad-cac3f64567d9",
   "metadata": {},
   "source": [
    "Method 1"
   ]
  },
  {
   "cell_type": "code",
   "execution_count": null,
   "id": "feb5832e-a7aa-48c3-a227-d120e55aecea",
   "metadata": {},
   "outputs": [],
   "source": [
    "noun = input('Choose a noun: ')\n",
    "\n",
    "p_noun = input('Choose a plural noun: ')\n",
    "\n",
    "noun2 = input('Choose a noun: ')\n",
    "\n",
    "place = input('Name a place: ')\n",
    "\n",
    "adjective = input('Choose an adjective (Describing word): ')\n",
    "\n",
    "noun3 = input('Choose a noun: ')\n",
    "\n",
    "# Print a story from the user input\n",
    "\n",
    "print('------------------------------------------')\n",
    "\n",
    "print('Be kind to your', noun, '- footed', p_noun)\n",
    "\n",
    "print('For a duck may be somebody\\'s', noun2, ',')\n",
    "\n",
    "print('Be kind to your', p_noun, 'in', place)\n",
    "\n",
    "print('Where the weather is always', adjective, '. \\n')\n",
    "\n",
    "print('You may think that is this the', noun3, ',')\n",
    "\n",
    "print('Well it is.')\n",
    "\n",
    "print('------------------------------------------')"
   ]
  },
  {
   "cell_type": "code",
   "execution_count": null,
   "id": "0e90d37a-c0f4-4002-a2a0-87b182f35a74",
   "metadata": {},
   "outputs": [],
   "source": []
  },
  {
   "cell_type": "raw",
   "id": "da5b8423-b2b1-41ef-98b1-aa871fcf2333",
   "metadata": {},
   "source": [
    "Method 2"
   ]
  },
  {
   "cell_type": "code",
   "execution_count": 3,
   "id": "cdbfc603-384f-484d-85fb-02bb490505ae",
   "metadata": {
    "tags": []
   },
   "outputs": [],
   "source": [
    "from ast import FloorDiv                                                      #library which is resulting of two variables as result of division\n",
    "from random import randint                                                    #select string characters randomly\n",
    "import copy                                                                   # it will copy all the matlib game altogether with input"
   ]
  },
  {
   "cell_type": "code",
   "execution_count": 7,
   "id": "e59af384-7e24-4124-a2b5-67b4e502d2cc",
   "metadata": {},
   "outputs": [
    {
     "name": "stdin",
     "output_type": "stream",
     "text": [
      " Shall we start the game\n",
      " yes\n"
     ]
    }
   ],
   "source": [
    "playing  = input (\" Shall we start the game\\n\")                                #taking input the user want to play or not\n",
    "# Now We make use of If-else Statement for Yes and Not\n",
    "if playing.lower() != \"yes\" :\n",
    "    quit()\n",
    "    print(\"Lets Play the Game :\\n\")"
   ]
  },
  {
   "cell_type": "code",
   "execution_count": 8,
   "id": "d0811b80-64e6-4e72-8833-913137c3e7ba",
   "metadata": {},
   "outputs": [
    {
     "name": "stdin",
     "output_type": "stream",
     "text": [
      "Enter your name:  Aditya\n",
      "Enter your Friend name:  Arbaaz\n",
      "Enter your Another Friend name:  Surjit\n",
      "Enter the place:  Garden\n",
      "Enter an adjective:  adorable\n",
      "Enter another adjective:  bored\n",
      "Enter one more adjective:  abusive\n",
      "Enter the adverb:  carefully\n",
      "Enter the another adverb:  Overwhelming\n",
      "Enter the emotion:  Hurrah\n"
     ]
    }
   ],
   "source": [
    "noun1 = input(\"Enter your name: \")\n",
    "noun2 = input(\"Enter your Friend name: \")\n",
    "noun3 = input(\"Enter your Another Friend name: \")\n",
    "place  = input(\"Enter the place: \")\n",
    "adjective1 = input(\"Enter an adjective: \")\n",
    "adjective2 = input(\"Enter another adjective: \")\n",
    "adjective3 = input(\"Enter one more adjective: \")\n",
    "adverb1 = input(\"Enter the adverb: \")\n",
    "adverb2 = input(\"Enter the another adverb: \")\n",
    "exclamation = input(\"Enter the emotion: \")"
   ]
  },
  {
   "cell_type": "code",
   "execution_count": null,
   "id": "6abad5bd-2fc1-4ca7-8b96-4b8a7774bd38",
   "metadata": {
    "tags": []
   },
   "outputs": [],
   "source": [
    "# print the story"
   ]
  },
  {
   "cell_type": "code",
   "execution_count": 15,
   "id": "43f76ef1-3aab-4e09-a856-a740760a5e14",
   "metadata": {
    "tags": []
   },
   "outputs": [
    {
     "name": "stdout",
     "output_type": "stream",
     "text": [
      "\n",
      " One day Aditya went to Garden.He was feeling very lonely, even though the view wasabusive.He decided to call his two best friendArbaazandSurjit.When they came, they told\tAdityasomethingboredhad happenedAdityawent there verycarefully.When he came he found that his other friends was falling off a cliffAdityasaidHurrahInside the feelingadorable.Adityamanaged to save himafter that they had aOverwhelmingcelebrationThey all laughed\n"
     ]
    }
   ],
   "source": [
    "print(\"\\n One day \" + noun1  + \" went to \" + place + \".\"\n",
    "      \"He was feeling very lonely, even though the view was\" + adjective3 + \".\"\n",
    "      \"He decided to call his two best friend\" + noun2 + \"and\" + noun3+ \".\"\n",
    "      \"When they came, they told\\t\" + noun1 + \"something\" + adjective2 + \"had happened\"\n",
    "      + noun1 + \"went there very\" +adverb1 + \".\"\n",
    "      \"When he came he found that his other friends was falling off a cliff\"\n",
    "      +noun1+ \"said\" + exclamation + \"Inside the feeling\" + adjective1 + \".\"\n",
    "      + noun1 + \"managed to save him\"\n",
    "      \"after that they had a\" + adverb2 + \"celebration\"\n",
    "      \"They all laughed\"\n",
    "     )"
   ]
  },
  {
   "cell_type": "code",
   "execution_count": null,
   "id": "2b011309-942b-48ad-93ff-2e2616571577",
   "metadata": {},
   "outputs": [],
   "source": []
  }
 ],
 "metadata": {
  "kernelspec": {
   "display_name": "Python 3 (ipykernel)",
   "language": "python",
   "name": "python3"
  },
  "language_info": {
   "codemirror_mode": {
    "name": "ipython",
    "version": 3
   },
   "file_extension": ".py",
   "mimetype": "text/x-python",
   "name": "python",
   "nbconvert_exporter": "python",
   "pygments_lexer": "ipython3",
   "version": "3.11.3"
  }
 },
 "nbformat": 4,
 "nbformat_minor": 5
}
